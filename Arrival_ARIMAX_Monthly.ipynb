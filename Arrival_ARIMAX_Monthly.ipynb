{
 "cells": [
  {
   "cell_type": "code",
   "execution_count": 1,
   "id": "12ffce90-e592-4210-9dc1-2a181b1febd7",
   "metadata": {},
   "outputs": [],
   "source": [
    "import pandas as pd\n",
    "import numpy as np\n",
    "import matplotlib.pyplot as plt\n",
    "from statsmodels.tsa.arima.model import ARIMA\n",
    "from statsmodels.graphics.tsaplots import plot_acf, plot_pacf\n",
    "from statsmodels.tsa.seasonal import seasonal_decompose\n",
    "from sklearn.metrics import mean_squared_error\n",
    "import statsmodels.api as sm\n",
    "import itertools"
   ]
  },
  {
   "cell_type": "code",
   "execution_count": 2,
   "id": "40c9118b-ccd8-49ef-8de0-dc303f1fe3ec",
   "metadata": {},
   "outputs": [],
   "source": [
    "\n",
    "# Load the data\n",
    "data = pd.read_csv('Arrival.csv')"
   ]
  },
  {
   "cell_type": "code",
   "execution_count": 3,
   "id": "dae26c06-6231-4714-944d-f1dfca418e52",
   "metadata": {},
   "outputs": [
    {
     "data": {
      "text/html": [
       "<div>\n",
       "<style scoped>\n",
       "    .dataframe tbody tr th:only-of-type {\n",
       "        vertical-align: middle;\n",
       "    }\n",
       "\n",
       "    .dataframe tbody tr th {\n",
       "        vertical-align: top;\n",
       "    }\n",
       "\n",
       "    .dataframe thead th {\n",
       "        text-align: right;\n",
       "    }\n",
       "</style>\n",
       "<table border=\"1\" class=\"dataframe\">\n",
       "  <thead>\n",
       "    <tr style=\"text-align: right;\">\n",
       "      <th></th>\n",
       "      <th>Arrivals</th>\n",
       "      <th>Date</th>\n",
       "      <th>Employee_payday</th>\n",
       "      <th>Pension_payday</th>\n",
       "      <th>After_or_before_holiday</th>\n",
       "      <th>Monday</th>\n",
       "      <th>Tuesday</th>\n",
       "      <th>Wednesday</th>\n",
       "      <th>Thursday</th>\n",
       "      <th>Friday</th>\n",
       "    </tr>\n",
       "  </thead>\n",
       "  <tbody>\n",
       "    <tr>\n",
       "      <th>0</th>\n",
       "      <td>1825</td>\n",
       "      <td>1/2</td>\n",
       "      <td>1</td>\n",
       "      <td>1</td>\n",
       "      <td>1</td>\n",
       "      <td>0</td>\n",
       "      <td>1</td>\n",
       "      <td>0</td>\n",
       "      <td>0</td>\n",
       "      <td>0</td>\n",
       "    </tr>\n",
       "    <tr>\n",
       "      <th>1</th>\n",
       "      <td>1257</td>\n",
       "      <td>1/3</td>\n",
       "      <td>0</td>\n",
       "      <td>0</td>\n",
       "      <td>0</td>\n",
       "      <td>0</td>\n",
       "      <td>0</td>\n",
       "      <td>1</td>\n",
       "      <td>0</td>\n",
       "      <td>0</td>\n",
       "    </tr>\n",
       "    <tr>\n",
       "      <th>2</th>\n",
       "      <td>969</td>\n",
       "      <td>1/4</td>\n",
       "      <td>0</td>\n",
       "      <td>0</td>\n",
       "      <td>0</td>\n",
       "      <td>0</td>\n",
       "      <td>0</td>\n",
       "      <td>0</td>\n",
       "      <td>1</td>\n",
       "      <td>0</td>\n",
       "    </tr>\n",
       "    <tr>\n",
       "      <th>3</th>\n",
       "      <td>1672</td>\n",
       "      <td>1/5</td>\n",
       "      <td>1</td>\n",
       "      <td>0</td>\n",
       "      <td>0</td>\n",
       "      <td>0</td>\n",
       "      <td>0</td>\n",
       "      <td>0</td>\n",
       "      <td>0</td>\n",
       "      <td>1</td>\n",
       "    </tr>\n",
       "    <tr>\n",
       "      <th>4</th>\n",
       "      <td>1098</td>\n",
       "      <td>1/8</td>\n",
       "      <td>0</td>\n",
       "      <td>0</td>\n",
       "      <td>0</td>\n",
       "      <td>1</td>\n",
       "      <td>0</td>\n",
       "      <td>0</td>\n",
       "      <td>0</td>\n",
       "      <td>0</td>\n",
       "    </tr>\n",
       "    <tr>\n",
       "      <th>...</th>\n",
       "      <td>...</td>\n",
       "      <td>...</td>\n",
       "      <td>...</td>\n",
       "      <td>...</td>\n",
       "      <td>...</td>\n",
       "      <td>...</td>\n",
       "      <td>...</td>\n",
       "      <td>...</td>\n",
       "      <td>...</td>\n",
       "      <td>...</td>\n",
       "    </tr>\n",
       "    <tr>\n",
       "      <th>249</th>\n",
       "      <td>941</td>\n",
       "      <td>12/24</td>\n",
       "      <td>0</td>\n",
       "      <td>0</td>\n",
       "      <td>1</td>\n",
       "      <td>1</td>\n",
       "      <td>0</td>\n",
       "      <td>0</td>\n",
       "      <td>0</td>\n",
       "      <td>0</td>\n",
       "    </tr>\n",
       "    <tr>\n",
       "      <th>250</th>\n",
       "      <td>999</td>\n",
       "      <td>12/26</td>\n",
       "      <td>0</td>\n",
       "      <td>0</td>\n",
       "      <td>1</td>\n",
       "      <td>0</td>\n",
       "      <td>0</td>\n",
       "      <td>1</td>\n",
       "      <td>0</td>\n",
       "      <td>0</td>\n",
       "    </tr>\n",
       "    <tr>\n",
       "      <th>251</th>\n",
       "      <td>619</td>\n",
       "      <td>12/27</td>\n",
       "      <td>0</td>\n",
       "      <td>0</td>\n",
       "      <td>0</td>\n",
       "      <td>0</td>\n",
       "      <td>0</td>\n",
       "      <td>0</td>\n",
       "      <td>1</td>\n",
       "      <td>0</td>\n",
       "    </tr>\n",
       "    <tr>\n",
       "      <th>252</th>\n",
       "      <td>937</td>\n",
       "      <td>12/28</td>\n",
       "      <td>0</td>\n",
       "      <td>0</td>\n",
       "      <td>0</td>\n",
       "      <td>0</td>\n",
       "      <td>0</td>\n",
       "      <td>0</td>\n",
       "      <td>0</td>\n",
       "      <td>1</td>\n",
       "    </tr>\n",
       "    <tr>\n",
       "      <th>253</th>\n",
       "      <td>1146</td>\n",
       "      <td>12/31</td>\n",
       "      <td>0</td>\n",
       "      <td>0</td>\n",
       "      <td>0</td>\n",
       "      <td>1</td>\n",
       "      <td>0</td>\n",
       "      <td>0</td>\n",
       "      <td>0</td>\n",
       "      <td>0</td>\n",
       "    </tr>\n",
       "  </tbody>\n",
       "</table>\n",
       "<p>254 rows × 10 columns</p>\n",
       "</div>"
      ],
      "text/plain": [
       "     Arrivals   Date  Employee_payday  Pension_payday  \\\n",
       "0        1825    1/2                1               1   \n",
       "1        1257    1/3                0               0   \n",
       "2         969    1/4                0               0   \n",
       "3        1672    1/5                1               0   \n",
       "4        1098    1/8                0               0   \n",
       "..        ...    ...              ...             ...   \n",
       "249       941  12/24                0               0   \n",
       "250       999  12/26                0               0   \n",
       "251       619  12/27                0               0   \n",
       "252       937  12/28                0               0   \n",
       "253      1146  12/31                0               0   \n",
       "\n",
       "     After_or_before_holiday  Monday  Tuesday  Wednesday  Thursday  Friday  \n",
       "0                          1       0        1          0         0       0  \n",
       "1                          0       0        0          1         0       0  \n",
       "2                          0       0        0          0         1       0  \n",
       "3                          0       0        0          0         0       1  \n",
       "4                          0       1        0          0         0       0  \n",
       "..                       ...     ...      ...        ...       ...     ...  \n",
       "249                        1       1        0          0         0       0  \n",
       "250                        1       0        0          1         0       0  \n",
       "251                        0       0        0          0         1       0  \n",
       "252                        0       0        0          0         0       1  \n",
       "253                        0       1        0          0         0       0  \n",
       "\n",
       "[254 rows x 10 columns]"
      ]
     },
     "execution_count": 3,
     "metadata": {},
     "output_type": "execute_result"
    }
   ],
   "source": [
    "data"
   ]
  },
  {
   "cell_type": "code",
   "execution_count": 4,
   "id": "1faf17f9-d8b0-41d3-b27b-23c3987a7375",
   "metadata": {},
   "outputs": [],
   "source": [
    "data['Date'] = pd.to_datetime(data['Date'], format='%m/%d')"
   ]
  },
  {
   "cell_type": "code",
   "execution_count": 5,
   "id": "4c7c6dc7-16c9-4f2b-94c8-19a4fdaacdaa",
   "metadata": {},
   "outputs": [],
   "source": [
    "# Format dates to display only month and day\n",
    "data['Date'] = data['Date'].apply(lambda x: x.strftime('%m-%d'))"
   ]
  },
  {
   "cell_type": "code",
   "execution_count": 6,
   "id": "514ebb99-a02e-4d53-916b-40a4b103d175",
   "metadata": {},
   "outputs": [],
   "source": [
    "data.set_index('Date', inplace=True)"
   ]
  },
  {
   "cell_type": "code",
   "execution_count": 7,
   "id": "cfb21a5f-07a1-4ee8-8506-1497e2d97aa5",
   "metadata": {},
   "outputs": [
    {
     "data": {
      "text/plain": [
       "Arrivals                   0\n",
       "Employee_payday            0\n",
       "Pension_payday             0\n",
       "After_or_before_holiday    0\n",
       "Monday                     0\n",
       "Tuesday                    0\n",
       "Wednesday                  0\n",
       "Thursday                   0\n",
       "Friday                     0\n",
       "dtype: int64"
      ]
     },
     "execution_count": 7,
     "metadata": {},
     "output_type": "execute_result"
    }
   ],
   "source": [
    "data.isnull().sum()"
   ]
  },
  {
   "cell_type": "code",
   "execution_count": 8,
   "id": "e14989c2-df7c-4954-b9ca-2d7d2a8b2de5",
   "metadata": {},
   "outputs": [
    {
     "data": {
      "text/plain": [
       "Arrivals                   int64\n",
       "Employee_payday            int64\n",
       "Pension_payday             int64\n",
       "After_or_before_holiday    int64\n",
       "Monday                     int64\n",
       "Tuesday                    int64\n",
       "Wednesday                  int64\n",
       "Thursday                   int64\n",
       "Friday                     int64\n",
       "dtype: object"
      ]
     },
     "execution_count": 8,
     "metadata": {},
     "output_type": "execute_result"
    }
   ],
   "source": [
    "data.dtypes"
   ]
  },
  {
   "cell_type": "code",
   "execution_count": 9,
   "id": "0aab9996-9c71-4d06-94c0-31b281fe85a5",
   "metadata": {},
   "outputs": [
    {
     "name": "stdout",
     "output_type": "stream",
     "text": [
      "ADF Statistic: -3.8447380756163825\n",
      "p-value: 0.0024813596014064384\n",
      "Critical Values:\n",
      "   1%: -3.4575505077947746\n",
      "   5%: -2.8735087323013526\n",
      "   10%: -2.573148434859185\n",
      "The data is stationary (reject the null hypothesis of non-stationarity)\n"
     ]
    }
   ],
   "source": [
    "from statsmodels.tsa.stattools import adfuller\n",
    "# Assuming 'data' contains your time series data\n",
    "# Replace 'data' with the name of your DataFrame\n",
    "# Assuming 'Arrivals' is the target variable\n",
    "\n",
    "# Perform Augmented Dickey-Fuller test\n",
    "adf_result = adfuller(data['Arrivals'])\n",
    "\n",
    "# Print the results\n",
    "print('ADF Statistic:', adf_result[0])\n",
    "print('p-value:', adf_result[1])\n",
    "print('Critical Values:')\n",
    "for key, value in adf_result[4].items():\n",
    "    print(f'   {key}: {value}')\n",
    "\n",
    "# Check if the data is stationary based on the p-value\n",
    "if adf_result[1] < 0.05:\n",
    "    print(\"The data is stationary (reject the null hypothesis of non-stationarity)\")\n",
    "else:\n",
    "    print(\"The data is non-stationary (fail to reject the null hypothesis of non-stationarity)\")\n"
   ]
  },
  {
   "cell_type": "code",
   "execution_count": 10,
   "id": "d3435cb2-e706-4dbc-b4d3-fc64c8769047",
   "metadata": {},
   "outputs": [
    {
     "data": {
      "image/png": "[encoded data removed]",
      "text/plain": [
       "<Figure size 640x480 with 1 Axes>"
      ]
     },
     "metadata": {},
     "output_type": "display_data"
    },
    {
     "data": {
      "image/png": "[encoded data removed]",
      "text/plain": [
       "<Figure size 640x480 with 1 Axes>"
      ]
     },
     "metadata": {},
     "output_type": "display_data"
    }
   ],
   "source": [
    "# Assuming your time series data is stored in a variable called 'ts'\n",
    "ts = data['Arrivals']\n",
    "# Plot ACF\n",
    "plot_acf(ts, lags=20)\n",
    "plt.title('Autocorrelation Function (ACF)')\n",
    "plt.xlabel('Lag')\n",
    "plt.ylabel('ACF')\n",
    "plt.show()\n",
    "\n",
    "# Plot PACF\n",
    "plot_pacf(ts, lags=20)\n",
    "plt.title('Partial Autocorrelation Function (PACF)')\n",
    "plt.xlabel('Lag')\n",
    "plt.ylabel('PACF')\n",
    "plt.show()\n"
   ]
  },
  {
   "cell_type": "code",
   "execution_count": null,
   "id": "20dcef77-2466-430b-be20-c92091830a46",
   "metadata": {},
   "outputs": [],
   "source": [
    "# Perform seasonal decomposition\n",
    "decomposition = seasonal_decompose(ts, model='additive', period = 30) \n",
    "'''Assuming monthly seasonality for  data if you tweak this period value you can see quarterly (120) , daily(1) seasonal decomposition as well'''\n",
    "\n",
    "# Plot the decomposition components\n",
    "plt.figure(figsize=(10, 8))\n",
    "\n",
    "plt.subplot(4, 1, 1)\n",
    "plt.plot(ts, label='Original')\n",
    "plt.legend()\n",
    "\n",
    "plt.subplot(4, 1, 2)\n",
    "plt.plot(decomposition.trend, label='Trend')\n",
    "plt.legend()\n",
    "\n",
    "plt.subplot(4, 1, 3)\n",
    "plt.plot(decomposition.seasonal, label='Seasonal')\n",
    "plt.legend()\n",
    "\n",
    "plt.subplot(4, 1, 4)\n",
    "plt.plot(decomposition.resid, label='Residual')\n",
    "plt.legend()\n",
    "\n",
    "plt.tight_layout()\n",
    "plt.show()"
   ]
  },
  {
   "cell_type": "code",
   "execution_count": null,
   "id": "f4441011-af47-49d0-9da6-1700405a5f95",
   "metadata": {},
   "outputs": [],
   "source": [
    "# Obtain seasonal component\n",
    "seasonal_component = decomposition.seasonal\n",
    "\n",
    "# Deseasonalize data\n",
    "deseasonalized_data = data['Arrivals'] - seasonal_component\n",
    "\n",
    "# Plot original and deseasonalized data for comparison\n",
    "plt.figure(figsize=(10, 6))\n",
    "plt.plot(data.index, data['Arrivals'], label='Original')\n",
    "plt.plot(data.index, deseasonalized_data, label='Deseasonalized')\n",
    "plt.xlabel('Date')\n",
    "plt.ylabel('Arrivals')\n",
    "plt.title('Original vs. Deseasonalized Data')\n",
    "plt.legend()\n",
    "plt.show()"
   ]
  },
  {
   "cell_type": "code",
   "execution_count": null,
   "id": "9737f3d9-dfa5-4bbf-97c6-82198ec5ab33",
   "metadata": {},
   "outputs": [],
   "source": [
    "import warnings\n",
    "\n",
    "# Suppress warnings\n",
    "warnings.filterwarnings(\"ignore\")\n",
    "\n",
    "# Assuming 'data' is your DataFrame with the index already set\n",
    "# Replace 'data' with the name of your DataFrame\n",
    "\n",
    "# Define exogenous variables and target variable\n",
    "exog_vars = data.columns.tolist()\n",
    "exog_vars.remove('Arrivals')  # Remove the target variable from exogenous variables"
   ]
  },
  {
   "cell_type": "code",
   "execution_count": null,
   "id": "ed6b3ade-1658-4886-8ab9-ec9c31f1dc13",
   "metadata": {},
   "outputs": [],
   "source": []
  },
  {
   "cell_type": "code",
   "execution_count": null,
   "id": "cfe8777e-3159-4381-b112-ea429152fae8",
   "metadata": {},
   "outputs": [],
   "source": []
  },
  {
   "cell_type": "code",
   "execution_count": null,
   "id": "501d5a47-e68d-4f77-b17a-b3a9be952168",
   "metadata": {},
   "outputs": [],
   "source": [
    "'''# Define range of p, d, q values\n",
    "p_values = range(0, 7)  # Example range for p\n",
    "d_values = range(0, 7)  # Example range for d\n",
    "q_values = range(0, 7)  # Example range for q\n",
    "\n",
    "# Generate all possible combinations of p, d, q\n",
    "pdq_combinations = list(itertools.product(p_values, d_values, q_values))\n",
    "# Initialize lists to store AIC and BIC values\n",
    "aic_values = []\n",
    "bic_values = []\n",
    "\n",
    "# Grid search over combinations of p, d, q\n",
    "for pdq in pdq_combinations:\n",
    "    try:\n",
    "        model = sm.tsa.ARIMA(endog=deseasonalized_data, exog=data[exog_vars], order=pdq)\n",
    "        model_fit = model.fit()\n",
    "        aic_values.append(model_fit.aic)\n",
    "        bic_values.append(model_fit.bic)\n",
    "    except:\n",
    "        continue\n",
    "\n",
    "# Find the best combination based on AIC and BIC criteria\n",
    "best_aic = min(aic_values)\n",
    "best_bic = min(bic_values)\n",
    "best_pdq_aic = pdq_combinations[aic_values.index(best_aic)]\n",
    "best_pdq_bic = pdq_combinations[bic_values.index(best_bic)]\n",
    "\n",
    "print(\"Best AIC:\", best_aic)\n",
    "print(\"Best parameters (AIC):\", best_pdq_aic)\n",
    "print(\"Best BIC:\", best_bic)\n",
    "print(\"Best parameters (BIC):\", best_pdq_bic)'''"
   ]
  },
  {
   "cell_type": "code",
   "execution_count": null,
   "id": "ecac3879-2293-4e46-90bf-1509103e639b",
   "metadata": {},
   "outputs": [],
   "source": [
    "model = sm.tsa.ARIMA(endog=deseasonalized_data, exog=data[exog_vars], order=(1, 1, 1))\n",
    "results = model.fit()\n",
    "print(results.summary())"
   ]
  },
  {
   "cell_type": "code",
   "execution_count": null,
   "id": "78ad41c9-9597-4858-bbac-37203298f5ab",
   "metadata": {},
   "outputs": [],
   "source": [
    "# Define the number of steps to forecast\n",
    "forecast_steps = 254  # Adjust as needed\n",
    "\n",
    "# Generate exogenous variables for forecasting\n",
    "forecast_exog = data[exog_vars].iloc[-forecast_steps:]  # Use the last values of exogenous variables\n",
    "\n",
    "# Forecast future values\n",
    "forecast = results.forecast(steps=forecast_steps, exog=forecast_exog)\n",
    "\n",
    "# Print forecasted values\n",
    "print(\"Forecasted Values:\")\n",
    "print(forecast)"
   ]
  },
  {
   "cell_type": "code",
   "execution_count": null,
   "id": "580ba8db-d3e3-4d3a-bf62-162fd96189fb",
   "metadata": {},
   "outputs": [],
   "source": [
    "from sklearn.metrics import mean_absolute_error, mean_squared_error\n",
    "\n",
    "\n",
    "actual_values = ts\n",
    "# Calculate forecasted values\n",
    "forecast_values = results.forecast(steps=len(actual_values), exog=forecast_exog)\n",
    "\n",
    "# Calculate accuracy metrics\n",
    "mae = mean_absolute_error(actual_values, forecast_values)\n",
    "mse = mean_squared_error(actual_values, forecast_values)\n",
    "rmse = np.sqrt(mse)\n",
    "\n",
    "# Print accuracy metrics\n",
    "print(\"Mean Absolute Error (MAE):\", mae)\n",
    "print(\"Mean Squared Error (MSE):\", mse)\n",
    "print(\"Root Mean Squared Error (RMSE):\", rmse)\n"
   ]
  },
  {
   "cell_type": "code",
   "execution_count": null,
   "id": "9e265098-3561-4703-96f8-34fc69eabc1a",
   "metadata": {},
   "outputs": [],
   "source": []
  },
  {
   "cell_type": "code",
   "execution_count": null,
   "id": "f971fda4-6937-42de-842a-88fe4ebe283a",
   "metadata": {},
   "outputs": [],
   "source": []
  },
  {
   "cell_type": "code",
   "execution_count": null,
   "id": "ae1e3466-1dba-48af-aac4-d5a0958a5892",
   "metadata": {},
   "outputs": [],
   "source": []
  }
 ],
 "metadata": {
  "kernelspec": {
   "display_name": "Python 3 (ipykernel)",
   "language": "python",
   "name": "python3"
  },
  "language_info": {
   "codemirror_mode": {
    "name": "ipython",
    "version": 3
   },
   "file_extension": ".py",
   "mimetype": "text/x-python",
   "name": "python",
   "nbconvert_exporter": "python",
   "pygments_lexer": "ipython3",
   "version": "3.12.2"
  }
 },
 "nbformat": 4,
 "nbformat_minor": 5
}
